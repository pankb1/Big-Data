{
  "nbformat": 4,
  "nbformat_minor": 0,
  "metadata": {
    "colab": {
      "provenance": [],
      "authorship_tag": "ABX9TyMIkwKpdj7CXtFDoroAB9Re",
      "include_colab_link": true
    },
    "kernelspec": {
      "name": "python3",
      "display_name": "Python 3"
    },
    "language_info": {
      "name": "python"
    }
  },
  "cells": [
    {
      "cell_type": "markdown",
      "metadata": {
        "id": "view-in-github",
        "colab_type": "text"
      },
      "source": [
        "<a href=\"https://colab.research.google.com/github/pankb1/Big-Data/blob/main/Ans_2_wine_class.ipynb\" target=\"_parent\"><img src=\"https://colab.research.google.com/assets/colab-badge.svg\" alt=\"Open In Colab\"/></a>"
      ]
    },
    {
      "cell_type": "code",
      "execution_count": 1,
      "metadata": {
        "colab": {
          "base_uri": "https://localhost:8080/"
        },
        "id": "1k10j74BXAuF",
        "outputId": "fba58b35-a93c-4ab8-f6b6-5c4322329c7f"
      },
      "outputs": [
        {
          "output_type": "stream",
          "name": "stdout",
          "text": [
            "Looking in indexes: https://pypi.org/simple, https://us-python.pkg.dev/colab-wheels/public/simple/\n",
            "Collecting pyspark\n",
            "  Downloading pyspark-3.3.1.tar.gz (281.4 MB)\n",
            "\u001b[2K     \u001b[90m━━━━━━━━━━━━━━━━━━━━━━━━━━━━━━━━━━━━━━━\u001b[0m \u001b[32m281.4/281.4 MB\u001b[0m \u001b[31m4.8 MB/s\u001b[0m eta \u001b[36m0:00:00\u001b[0m\n",
            "\u001b[?25h  Preparing metadata (setup.py) ... \u001b[?25l\u001b[?25hdone\n",
            "Collecting py4j==0.10.9.5\n",
            "  Downloading py4j-0.10.9.5-py2.py3-none-any.whl (199 kB)\n",
            "\u001b[2K     \u001b[90m━━━━━━━━━━━━━━━━━━━━━━━━━━━━━━━━━━━━━━\u001b[0m \u001b[32m199.7/199.7 KB\u001b[0m \u001b[31m18.4 MB/s\u001b[0m eta \u001b[36m0:00:00\u001b[0m\n",
            "\u001b[?25hBuilding wheels for collected packages: pyspark\n",
            "  Building wheel for pyspark (setup.py) ... \u001b[?25l\u001b[?25hdone\n",
            "  Created wheel for pyspark: filename=pyspark-3.3.1-py2.py3-none-any.whl size=281845512 sha256=19976c34ee35e5f91f8473f0f5381b7af57b0716a1d80ff6cfc64346aee07e69\n",
            "  Stored in directory: /root/.cache/pip/wheels/43/dc/11/ec201cd671da62fa9c5cc77078235e40722170ceba231d7598\n",
            "Successfully built pyspark\n",
            "Installing collected packages: py4j, pyspark\n",
            "Successfully installed py4j-0.10.9.5 pyspark-3.3.1\n"
          ]
        }
      ],
      "source": [
        "pip install pyspark"
      ]
    },
    {
      "cell_type": "code",
      "source": [
        "import pyspark\n"
      ],
      "metadata": {
        "id": "JoFka0MLXvVO"
      },
      "execution_count": 2,
      "outputs": []
    },
    {
      "cell_type": "code",
      "source": [
        "from pyspark.sql import SparkSession\n",
        "from pyspark.ml.feature import VectorAssembler, MinMaxScaler\n",
        "from pyspark.ml.classification import MultilayerPerceptronClassifier\n",
        "from pyspark.ml.evaluation import MulticlassClassificationEvaluator\n",
        "from pyspark.ml.feature import StandardScaler\n",
        "\n"
      ],
      "metadata": {
        "id": "kUSWLtymZ5mx"
      },
      "execution_count": 162,
      "outputs": []
    },
    {
      "cell_type": "code",
      "source": [
        "spark = SparkSession.builder.master('local').appName('dl').getOrCreate()"
      ],
      "metadata": {
        "id": "ljdUAEyRYB-O"
      },
      "execution_count": 11,
      "outputs": []
    },
    {
      "cell_type": "code",
      "source": [
        "df = spark.read.csv(\"wine-class.csv\", header=True, inferSchema=True)"
      ],
      "metadata": {
        "id": "UxCLqC2MYEx-"
      },
      "execution_count": 32,
      "outputs": []
    },
    {
      "cell_type": "code",
      "source": [
        "df"
      ],
      "metadata": {
        "colab": {
          "base_uri": "https://localhost:8080/"
        },
        "id": "fYn2evR8YUQM",
        "outputId": "2a4f6f9c-8b41-4be6-d463-67e8ab5c8dd4"
      },
      "execution_count": 33,
      "outputs": [
        {
          "output_type": "execute_result",
          "data": {
            "text/plain": [
              "DataFrame[class: int, alcohol: double,  malic_acid: double,  ash: double,  alcalinity_of_ash: double,  magnesium: int,  total_phenols: double,  flavanoids: double,  nonflavanoid_phenols: double,  proanthocyanins: double,  color_intensity: double,  hue: double,  od280/od315_of_diluted_wines: double,  proline: int]"
            ]
          },
          "metadata": {},
          "execution_count": 33
        }
      ]
    },
    {
      "cell_type": "code",
      "source": [
        "df.show()"
      ],
      "metadata": {
        "colab": {
          "base_uri": "https://localhost:8080/"
        },
        "id": "vy7a-rrEYp8M",
        "outputId": "248a14ce-ad85-4d0a-fc54-fe53b31ceecc"
      },
      "execution_count": 34,
      "outputs": [
        {
          "output_type": "stream",
          "name": "stdout",
          "text": [
            "+-----+-------+-----------+----+------------------+----------+--------------+-----------+---------------------+----------------+----------------+----+-----------------------------+--------+\n",
            "|class|alcohol| malic_acid| ash| alcalinity_of_ash| magnesium| total_phenols| flavanoids| nonflavanoid_phenols| proanthocyanins| color_intensity| hue| od280/od315_of_diluted_wines| proline|\n",
            "+-----+-------+-----------+----+------------------+----------+--------------+-----------+---------------------+----------------+----------------+----+-----------------------------+--------+\n",
            "|    1|  14.23|       1.71|2.43|              15.6|       127|           2.8|       3.06|                 0.28|            2.29|            5.64|1.04|                         3.92|    1065|\n",
            "|    1|   13.2|       1.78|2.14|              11.2|       100|          2.65|       2.76|                 0.26|            1.28|            4.38|1.05|                          3.4|    1050|\n",
            "|    1|  13.16|       2.36|2.67|              18.6|       101|           2.8|       3.24|                  0.3|            2.81|            5.68|1.03|                         3.17|    1185|\n",
            "|    1|  14.37|       1.95| 2.5|              16.8|       113|          3.85|       3.49|                 0.24|            2.18|             7.8|0.86|                         3.45|    1480|\n",
            "|    1|  13.24|       2.59|2.87|              21.0|       118|           2.8|       2.69|                 0.39|            1.82|            4.32|1.04|                         2.93|     735|\n",
            "|    1|   14.2|       1.76|2.45|              15.2|       112|          3.27|       3.39|                 0.34|            1.97|            6.75|1.05|                         2.85|    1450|\n",
            "|    1|  14.39|       1.87|2.45|              14.6|        96|           2.5|       2.52|                  0.3|            1.98|            5.25|1.02|                         3.58|    1290|\n",
            "|    1|  14.06|       2.15|2.61|              17.6|       121|           2.6|       2.51|                 0.31|            1.25|            5.05|1.06|                         3.58|    1295|\n",
            "|    1|  14.83|       1.64|2.17|              14.0|        97|           2.8|       2.98|                 0.29|            1.98|             5.2|1.08|                         2.85|    1045|\n",
            "|    1|  13.86|       1.35|2.27|              16.0|        98|          2.98|       3.15|                 0.22|            1.85|            7.22|1.01|                         3.55|    1045|\n",
            "|    1|   14.1|       2.16| 2.3|              18.0|       105|          2.95|       3.32|                 0.22|            2.38|            5.75|1.25|                         3.17|    1510|\n",
            "|    1|  14.12|       1.48|2.32|              16.8|        95|           2.2|       2.43|                 0.26|            1.57|             5.0|1.17|                         2.82|    1280|\n",
            "|    1|  13.75|       1.73|2.41|              16.0|        89|           2.6|       2.76|                 0.29|            1.81|             5.6|1.15|                          2.9|    1320|\n",
            "|    1|  14.75|       1.73|2.39|              11.4|        91|           3.1|       3.69|                 0.43|            2.81|             5.4|1.25|                         2.73|    1150|\n",
            "|    1|  14.38|       1.87|2.38|              12.0|       102|           3.3|       3.64|                 0.29|            2.96|             7.5| 1.2|                          3.0|    1547|\n",
            "|    1|  13.63|       1.81| 2.7|              17.2|       112|          2.85|       2.91|                  0.3|            1.46|             7.3|1.28|                         2.88|    1310|\n",
            "|    1|   14.3|       1.92|2.72|              20.0|       120|           2.8|       3.14|                 0.33|            1.97|             6.2|1.07|                         2.65|    1280|\n",
            "|    1|  13.83|       1.57|2.62|              20.0|       115|          2.95|        3.4|                  0.4|            1.72|             6.6|1.13|                         2.57|    1130|\n",
            "|    1|  14.19|       1.59|2.48|              16.5|       108|           3.3|       3.93|                 0.32|            1.86|             8.7|1.23|                         2.82|    1680|\n",
            "|    1|  13.64|        3.1|2.56|              15.2|       116|           2.7|       3.03|                 0.17|            1.66|             5.1|0.96|                         3.36|     845|\n",
            "+-----+-------+-----------+----+------------------+----------+--------------+-----------+---------------------+----------------+----------------+----+-----------------------------+--------+\n",
            "only showing top 20 rows\n",
            "\n"
          ]
        }
      ]
    },
    {
      "cell_type": "code",
      "source": [
        "df.printSchema()"
      ],
      "metadata": {
        "colab": {
          "base_uri": "https://localhost:8080/"
        },
        "id": "KJMsZy5_ZpG-",
        "outputId": "ba5e760c-08e8-48f4-87f9-c3e22836e14c"
      },
      "execution_count": 43,
      "outputs": [
        {
          "output_type": "stream",
          "name": "stdout",
          "text": [
            "root\n",
            " |-- class: integer (nullable = true)\n",
            " |-- alcohol: double (nullable = true)\n",
            " |--  malic_acid: double (nullable = true)\n",
            " |--  ash: double (nullable = true)\n",
            " |--  alcalinity_of_ash: double (nullable = true)\n",
            " |--  magnesium: integer (nullable = true)\n",
            " |--  total_phenols: double (nullable = true)\n",
            " |--  flavanoids: double (nullable = true)\n",
            " |--  nonflavanoid_phenols: double (nullable = true)\n",
            " |--  proanthocyanins: double (nullable = true)\n",
            " |--  color_intensity: double (nullable = true)\n",
            " |--  hue: double (nullable = true)\n",
            " |--  od280/od315_of_diluted_wines: double (nullable = true)\n",
            " |--  proline: integer (nullable = true)\n",
            "\n"
          ]
        }
      ]
    },
    {
      "cell_type": "code",
      "source": [
        "for col in df.columns:\n",
        "  df =df.withColumn(col,df[col].cast('double'))"
      ],
      "metadata": {
        "id": "iyn9tDw6bnCb"
      },
      "execution_count": 46,
      "outputs": []
    },
    {
      "cell_type": "code",
      "source": [
        "# input column\n",
        "input_cols = df.columns[1:-1]"
      ],
      "metadata": {
        "id": "ODjpdk0rbrBp"
      },
      "execution_count": 157,
      "outputs": []
    },
    {
      "cell_type": "code",
      "source": [
        "df.select(input_cols).show()"
      ],
      "metadata": {
        "colab": {
          "base_uri": "https://localhost:8080/"
        },
        "id": "-YKpIDwPbv9J",
        "outputId": "bb381b3c-d998-4081-c07e-9cdb2f358bfe"
      },
      "execution_count": 158,
      "outputs": [
        {
          "output_type": "stream",
          "name": "stdout",
          "text": [
            "+-----------+----+------------------+----------+--------------+-----------+---------------------+----------------+----------------+----+-----------------------------+\n",
            "| malic_acid| ash| alcalinity_of_ash| magnesium| total_phenols| flavanoids| nonflavanoid_phenols| proanthocyanins| color_intensity| hue| od280/od315_of_diluted_wines|\n",
            "+-----------+----+------------------+----------+--------------+-----------+---------------------+----------------+----------------+----+-----------------------------+\n",
            "|       1.71|2.43|              15.6|     127.0|           2.8|       3.06|                 0.28|            2.29|            5.64|1.04|                         3.92|\n",
            "|       1.78|2.14|              11.2|     100.0|          2.65|       2.76|                 0.26|            1.28|            4.38|1.05|                          3.4|\n",
            "|       2.36|2.67|              18.6|     101.0|           2.8|       3.24|                  0.3|            2.81|            5.68|1.03|                         3.17|\n",
            "|       1.95| 2.5|              16.8|     113.0|          3.85|       3.49|                 0.24|            2.18|             7.8|0.86|                         3.45|\n",
            "|       2.59|2.87|              21.0|     118.0|           2.8|       2.69|                 0.39|            1.82|            4.32|1.04|                         2.93|\n",
            "|       1.76|2.45|              15.2|     112.0|          3.27|       3.39|                 0.34|            1.97|            6.75|1.05|                         2.85|\n",
            "|       1.87|2.45|              14.6|      96.0|           2.5|       2.52|                  0.3|            1.98|            5.25|1.02|                         3.58|\n",
            "|       2.15|2.61|              17.6|     121.0|           2.6|       2.51|                 0.31|            1.25|            5.05|1.06|                         3.58|\n",
            "|       1.64|2.17|              14.0|      97.0|           2.8|       2.98|                 0.29|            1.98|             5.2|1.08|                         2.85|\n",
            "|       1.35|2.27|              16.0|      98.0|          2.98|       3.15|                 0.22|            1.85|            7.22|1.01|                         3.55|\n",
            "|       2.16| 2.3|              18.0|     105.0|          2.95|       3.32|                 0.22|            2.38|            5.75|1.25|                         3.17|\n",
            "|       1.48|2.32|              16.8|      95.0|           2.2|       2.43|                 0.26|            1.57|             5.0|1.17|                         2.82|\n",
            "|       1.73|2.41|              16.0|      89.0|           2.6|       2.76|                 0.29|            1.81|             5.6|1.15|                          2.9|\n",
            "|       1.73|2.39|              11.4|      91.0|           3.1|       3.69|                 0.43|            2.81|             5.4|1.25|                         2.73|\n",
            "|       1.87|2.38|              12.0|     102.0|           3.3|       3.64|                 0.29|            2.96|             7.5| 1.2|                          3.0|\n",
            "|       1.81| 2.7|              17.2|     112.0|          2.85|       2.91|                  0.3|            1.46|             7.3|1.28|                         2.88|\n",
            "|       1.92|2.72|              20.0|     120.0|           2.8|       3.14|                 0.33|            1.97|             6.2|1.07|                         2.65|\n",
            "|       1.57|2.62|              20.0|     115.0|          2.95|        3.4|                  0.4|            1.72|             6.6|1.13|                         2.57|\n",
            "|       1.59|2.48|              16.5|     108.0|           3.3|       3.93|                 0.32|            1.86|             8.7|1.23|                         2.82|\n",
            "|        3.1|2.56|              15.2|     116.0|           2.7|       3.03|                 0.17|            1.66|             5.1|0.96|                         3.36|\n",
            "+-----------+----+------------------+----------+--------------+-----------+---------------------+----------------+----------------+----+-----------------------------+\n",
            "only showing top 20 rows\n",
            "\n"
          ]
        }
      ]
    },
    {
      "cell_type": "code",
      "source": [
        "# output column\n",
        "output_cols = df.columns[:1]"
      ],
      "metadata": {
        "id": "oyMYSCfxchc6"
      },
      "execution_count": 53,
      "outputs": []
    },
    {
      "cell_type": "code",
      "source": [
        "df.select(output_cols).show()"
      ],
      "metadata": {
        "colab": {
          "base_uri": "https://localhost:8080/"
        },
        "id": "LhpBdVk9fPHF",
        "outputId": "146a6c75-2250-4cf9-dadb-30c9f8ea2ae0"
      },
      "execution_count": 55,
      "outputs": [
        {
          "output_type": "stream",
          "name": "stdout",
          "text": [
            "+-----+\n",
            "|class|\n",
            "+-----+\n",
            "|  1.0|\n",
            "|  1.0|\n",
            "|  1.0|\n",
            "|  1.0|\n",
            "|  1.0|\n",
            "|  1.0|\n",
            "|  1.0|\n",
            "|  1.0|\n",
            "|  1.0|\n",
            "|  1.0|\n",
            "|  1.0|\n",
            "|  1.0|\n",
            "|  1.0|\n",
            "|  1.0|\n",
            "|  1.0|\n",
            "|  1.0|\n",
            "|  1.0|\n",
            "|  1.0|\n",
            "|  1.0|\n",
            "|  1.0|\n",
            "+-----+\n",
            "only showing top 20 rows\n",
            "\n"
          ]
        }
      ]
    },
    {
      "cell_type": "code",
      "source": [
        "df.countdf.count"
      ],
      "metadata": {
        "colab": {
          "base_uri": "https://localhost:8080/"
        },
        "id": "RIV9KdHjfWWV",
        "outputId": "a0fd7ae0-8aad-47ab-cc54-9b76425dd6df"
      },
      "execution_count": 56,
      "outputs": [
        {
          "output_type": "execute_result",
          "data": {
            "text/plain": [
              "<bound method DataFrame.count of DataFrame[class: double, alcohol: double,  malic_acid: double,  ash: double,  alcalinity_of_ash: double,  magnesium: double,  total_phenols: double,  flavanoids: double,  nonflavanoid_phenols: double,  proanthocyanins: double,  color_intensity: double,  hue: double,  od280/od315_of_diluted_wines: double,  proline: double]>"
            ]
          },
          "metadata": {},
          "execution_count": 56
        }
      ]
    },
    {
      "cell_type": "code",
      "source": [
        "pdf = df.toPandas()\n",
        "pdf"
      ],
      "metadata": {
        "colab": {
          "base_uri": "https://localhost:8080/",
          "height": 488
        },
        "id": "wpovd0YRfuPo",
        "outputId": "e84b3ed0-94f8-478b-d92f-623379d6e045"
      },
      "execution_count": 57,
      "outputs": [
        {
          "output_type": "execute_result",
          "data": {
            "text/plain": [
              "     class  alcohol   malic_acid   ash   alcalinity_of_ash   magnesium  \\\n",
              "0      1.0    14.23         1.71  2.43                15.6       127.0   \n",
              "1      1.0    13.20         1.78  2.14                11.2       100.0   \n",
              "2      1.0    13.16         2.36  2.67                18.6       101.0   \n",
              "3      1.0    14.37         1.95  2.50                16.8       113.0   \n",
              "4      1.0    13.24         2.59  2.87                21.0       118.0   \n",
              "..     ...      ...          ...   ...                 ...         ...   \n",
              "173    3.0    13.71         5.65  2.45                20.5        95.0   \n",
              "174    3.0    13.40         3.91  2.48                23.0       102.0   \n",
              "175    3.0    13.27         4.28  2.26                20.0       120.0   \n",
              "176    3.0    13.17         2.59  2.37                20.0       120.0   \n",
              "177    3.0    14.13         4.10  2.74                24.5        96.0   \n",
              "\n",
              "      total_phenols   flavanoids   nonflavanoid_phenols   proanthocyanins  \\\n",
              "0              2.80         3.06                   0.28              2.29   \n",
              "1              2.65         2.76                   0.26              1.28   \n",
              "2              2.80         3.24                   0.30              2.81   \n",
              "3              3.85         3.49                   0.24              2.18   \n",
              "4              2.80         2.69                   0.39              1.82   \n",
              "..              ...          ...                    ...               ...   \n",
              "173            1.68         0.61                   0.52              1.06   \n",
              "174            1.80         0.75                   0.43              1.41   \n",
              "175            1.59         0.69                   0.43              1.35   \n",
              "176            1.65         0.68                   0.53              1.46   \n",
              "177            2.05         0.76                   0.56              1.35   \n",
              "\n",
              "      color_intensity   hue   od280/od315_of_diluted_wines   proline  \n",
              "0                5.64  1.04                           3.92    1065.0  \n",
              "1                4.38  1.05                           3.40    1050.0  \n",
              "2                5.68  1.03                           3.17    1185.0  \n",
              "3                7.80  0.86                           3.45    1480.0  \n",
              "4                4.32  1.04                           2.93     735.0  \n",
              "..                ...   ...                            ...       ...  \n",
              "173              7.70  0.64                           1.74     740.0  \n",
              "174              7.30  0.70                           1.56     750.0  \n",
              "175             10.20  0.59                           1.56     835.0  \n",
              "176              9.30  0.60                           1.62     840.0  \n",
              "177              9.20  0.61                           1.60     560.0  \n",
              "\n",
              "[178 rows x 14 columns]"
            ],
            "text/html": [
              "\n",
              "  <div id=\"df-ee439253-86eb-4626-80f9-bd26d1254704\">\n",
              "    <div class=\"colab-df-container\">\n",
              "      <div>\n",
              "<style scoped>\n",
              "    .dataframe tbody tr th:only-of-type {\n",
              "        vertical-align: middle;\n",
              "    }\n",
              "\n",
              "    .dataframe tbody tr th {\n",
              "        vertical-align: top;\n",
              "    }\n",
              "\n",
              "    .dataframe thead th {\n",
              "        text-align: right;\n",
              "    }\n",
              "</style>\n",
              "<table border=\"1\" class=\"dataframe\">\n",
              "  <thead>\n",
              "    <tr style=\"text-align: right;\">\n",
              "      <th></th>\n",
              "      <th>class</th>\n",
              "      <th>alcohol</th>\n",
              "      <th>malic_acid</th>\n",
              "      <th>ash</th>\n",
              "      <th>alcalinity_of_ash</th>\n",
              "      <th>magnesium</th>\n",
              "      <th>total_phenols</th>\n",
              "      <th>flavanoids</th>\n",
              "      <th>nonflavanoid_phenols</th>\n",
              "      <th>proanthocyanins</th>\n",
              "      <th>color_intensity</th>\n",
              "      <th>hue</th>\n",
              "      <th>od280/od315_of_diluted_wines</th>\n",
              "      <th>proline</th>\n",
              "    </tr>\n",
              "  </thead>\n",
              "  <tbody>\n",
              "    <tr>\n",
              "      <th>0</th>\n",
              "      <td>1.0</td>\n",
              "      <td>14.23</td>\n",
              "      <td>1.71</td>\n",
              "      <td>2.43</td>\n",
              "      <td>15.6</td>\n",
              "      <td>127.0</td>\n",
              "      <td>2.80</td>\n",
              "      <td>3.06</td>\n",
              "      <td>0.28</td>\n",
              "      <td>2.29</td>\n",
              "      <td>5.64</td>\n",
              "      <td>1.04</td>\n",
              "      <td>3.92</td>\n",
              "      <td>1065.0</td>\n",
              "    </tr>\n",
              "    <tr>\n",
              "      <th>1</th>\n",
              "      <td>1.0</td>\n",
              "      <td>13.20</td>\n",
              "      <td>1.78</td>\n",
              "      <td>2.14</td>\n",
              "      <td>11.2</td>\n",
              "      <td>100.0</td>\n",
              "      <td>2.65</td>\n",
              "      <td>2.76</td>\n",
              "      <td>0.26</td>\n",
              "      <td>1.28</td>\n",
              "      <td>4.38</td>\n",
              "      <td>1.05</td>\n",
              "      <td>3.40</td>\n",
              "      <td>1050.0</td>\n",
              "    </tr>\n",
              "    <tr>\n",
              "      <th>2</th>\n",
              "      <td>1.0</td>\n",
              "      <td>13.16</td>\n",
              "      <td>2.36</td>\n",
              "      <td>2.67</td>\n",
              "      <td>18.6</td>\n",
              "      <td>101.0</td>\n",
              "      <td>2.80</td>\n",
              "      <td>3.24</td>\n",
              "      <td>0.30</td>\n",
              "      <td>2.81</td>\n",
              "      <td>5.68</td>\n",
              "      <td>1.03</td>\n",
              "      <td>3.17</td>\n",
              "      <td>1185.0</td>\n",
              "    </tr>\n",
              "    <tr>\n",
              "      <th>3</th>\n",
              "      <td>1.0</td>\n",
              "      <td>14.37</td>\n",
              "      <td>1.95</td>\n",
              "      <td>2.50</td>\n",
              "      <td>16.8</td>\n",
              "      <td>113.0</td>\n",
              "      <td>3.85</td>\n",
              "      <td>3.49</td>\n",
              "      <td>0.24</td>\n",
              "      <td>2.18</td>\n",
              "      <td>7.80</td>\n",
              "      <td>0.86</td>\n",
              "      <td>3.45</td>\n",
              "      <td>1480.0</td>\n",
              "    </tr>\n",
              "    <tr>\n",
              "      <th>4</th>\n",
              "      <td>1.0</td>\n",
              "      <td>13.24</td>\n",
              "      <td>2.59</td>\n",
              "      <td>2.87</td>\n",
              "      <td>21.0</td>\n",
              "      <td>118.0</td>\n",
              "      <td>2.80</td>\n",
              "      <td>2.69</td>\n",
              "      <td>0.39</td>\n",
              "      <td>1.82</td>\n",
              "      <td>4.32</td>\n",
              "      <td>1.04</td>\n",
              "      <td>2.93</td>\n",
              "      <td>735.0</td>\n",
              "    </tr>\n",
              "    <tr>\n",
              "      <th>...</th>\n",
              "      <td>...</td>\n",
              "      <td>...</td>\n",
              "      <td>...</td>\n",
              "      <td>...</td>\n",
              "      <td>...</td>\n",
              "      <td>...</td>\n",
              "      <td>...</td>\n",
              "      <td>...</td>\n",
              "      <td>...</td>\n",
              "      <td>...</td>\n",
              "      <td>...</td>\n",
              "      <td>...</td>\n",
              "      <td>...</td>\n",
              "      <td>...</td>\n",
              "    </tr>\n",
              "    <tr>\n",
              "      <th>173</th>\n",
              "      <td>3.0</td>\n",
              "      <td>13.71</td>\n",
              "      <td>5.65</td>\n",
              "      <td>2.45</td>\n",
              "      <td>20.5</td>\n",
              "      <td>95.0</td>\n",
              "      <td>1.68</td>\n",
              "      <td>0.61</td>\n",
              "      <td>0.52</td>\n",
              "      <td>1.06</td>\n",
              "      <td>7.70</td>\n",
              "      <td>0.64</td>\n",
              "      <td>1.74</td>\n",
              "      <td>740.0</td>\n",
              "    </tr>\n",
              "    <tr>\n",
              "      <th>174</th>\n",
              "      <td>3.0</td>\n",
              "      <td>13.40</td>\n",
              "      <td>3.91</td>\n",
              "      <td>2.48</td>\n",
              "      <td>23.0</td>\n",
              "      <td>102.0</td>\n",
              "      <td>1.80</td>\n",
              "      <td>0.75</td>\n",
              "      <td>0.43</td>\n",
              "      <td>1.41</td>\n",
              "      <td>7.30</td>\n",
              "      <td>0.70</td>\n",
              "      <td>1.56</td>\n",
              "      <td>750.0</td>\n",
              "    </tr>\n",
              "    <tr>\n",
              "      <th>175</th>\n",
              "      <td>3.0</td>\n",
              "      <td>13.27</td>\n",
              "      <td>4.28</td>\n",
              "      <td>2.26</td>\n",
              "      <td>20.0</td>\n",
              "      <td>120.0</td>\n",
              "      <td>1.59</td>\n",
              "      <td>0.69</td>\n",
              "      <td>0.43</td>\n",
              "      <td>1.35</td>\n",
              "      <td>10.20</td>\n",
              "      <td>0.59</td>\n",
              "      <td>1.56</td>\n",
              "      <td>835.0</td>\n",
              "    </tr>\n",
              "    <tr>\n",
              "      <th>176</th>\n",
              "      <td>3.0</td>\n",
              "      <td>13.17</td>\n",
              "      <td>2.59</td>\n",
              "      <td>2.37</td>\n",
              "      <td>20.0</td>\n",
              "      <td>120.0</td>\n",
              "      <td>1.65</td>\n",
              "      <td>0.68</td>\n",
              "      <td>0.53</td>\n",
              "      <td>1.46</td>\n",
              "      <td>9.30</td>\n",
              "      <td>0.60</td>\n",
              "      <td>1.62</td>\n",
              "      <td>840.0</td>\n",
              "    </tr>\n",
              "    <tr>\n",
              "      <th>177</th>\n",
              "      <td>3.0</td>\n",
              "      <td>14.13</td>\n",
              "      <td>4.10</td>\n",
              "      <td>2.74</td>\n",
              "      <td>24.5</td>\n",
              "      <td>96.0</td>\n",
              "      <td>2.05</td>\n",
              "      <td>0.76</td>\n",
              "      <td>0.56</td>\n",
              "      <td>1.35</td>\n",
              "      <td>9.20</td>\n",
              "      <td>0.61</td>\n",
              "      <td>1.60</td>\n",
              "      <td>560.0</td>\n",
              "    </tr>\n",
              "  </tbody>\n",
              "</table>\n",
              "<p>178 rows × 14 columns</p>\n",
              "</div>\n",
              "      <button class=\"colab-df-convert\" onclick=\"convertToInteractive('df-ee439253-86eb-4626-80f9-bd26d1254704')\"\n",
              "              title=\"Convert this dataframe to an interactive table.\"\n",
              "              style=\"display:none;\">\n",
              "        \n",
              "  <svg xmlns=\"http://www.w3.org/2000/svg\" height=\"24px\"viewBox=\"0 0 24 24\"\n",
              "       width=\"24px\">\n",
              "    <path d=\"M0 0h24v24H0V0z\" fill=\"none\"/>\n",
              "    <path d=\"M18.56 5.44l.94 2.06.94-2.06 2.06-.94-2.06-.94-.94-2.06-.94 2.06-2.06.94zm-11 1L8.5 8.5l.94-2.06 2.06-.94-2.06-.94L8.5 2.5l-.94 2.06-2.06.94zm10 10l.94 2.06.94-2.06 2.06-.94-2.06-.94-.94-2.06-.94 2.06-2.06.94z\"/><path d=\"M17.41 7.96l-1.37-1.37c-.4-.4-.92-.59-1.43-.59-.52 0-1.04.2-1.43.59L10.3 9.45l-7.72 7.72c-.78.78-.78 2.05 0 2.83L4 21.41c.39.39.9.59 1.41.59.51 0 1.02-.2 1.41-.59l7.78-7.78 2.81-2.81c.8-.78.8-2.07 0-2.86zM5.41 20L4 18.59l7.72-7.72 1.47 1.35L5.41 20z\"/>\n",
              "  </svg>\n",
              "      </button>\n",
              "      \n",
              "  <style>\n",
              "    .colab-df-container {\n",
              "      display:flex;\n",
              "      flex-wrap:wrap;\n",
              "      gap: 12px;\n",
              "    }\n",
              "\n",
              "    .colab-df-convert {\n",
              "      background-color: #E8F0FE;\n",
              "      border: none;\n",
              "      border-radius: 50%;\n",
              "      cursor: pointer;\n",
              "      display: none;\n",
              "      fill: #1967D2;\n",
              "      height: 32px;\n",
              "      padding: 0 0 0 0;\n",
              "      width: 32px;\n",
              "    }\n",
              "\n",
              "    .colab-df-convert:hover {\n",
              "      background-color: #E2EBFA;\n",
              "      box-shadow: 0px 1px 2px rgba(60, 64, 67, 0.3), 0px 1px 3px 1px rgba(60, 64, 67, 0.15);\n",
              "      fill: #174EA6;\n",
              "    }\n",
              "\n",
              "    [theme=dark] .colab-df-convert {\n",
              "      background-color: #3B4455;\n",
              "      fill: #D2E3FC;\n",
              "    }\n",
              "\n",
              "    [theme=dark] .colab-df-convert:hover {\n",
              "      background-color: #434B5C;\n",
              "      box-shadow: 0px 1px 3px 1px rgba(0, 0, 0, 0.15);\n",
              "      filter: drop-shadow(0px 1px 2px rgba(0, 0, 0, 0.3));\n",
              "      fill: #FFFFFF;\n",
              "    }\n",
              "  </style>\n",
              "\n",
              "      <script>\n",
              "        const buttonEl =\n",
              "          document.querySelector('#df-ee439253-86eb-4626-80f9-bd26d1254704 button.colab-df-convert');\n",
              "        buttonEl.style.display =\n",
              "          google.colab.kernel.accessAllowed ? 'block' : 'none';\n",
              "\n",
              "        async function convertToInteractive(key) {\n",
              "          const element = document.querySelector('#df-ee439253-86eb-4626-80f9-bd26d1254704');\n",
              "          const dataTable =\n",
              "            await google.colab.kernel.invokeFunction('convertToInteractive',\n",
              "                                                     [key], {});\n",
              "          if (!dataTable) return;\n",
              "\n",
              "          const docLinkHtml = 'Like what you see? Visit the ' +\n",
              "            '<a target=\"_blank\" href=https://colab.research.google.com/notebooks/data_table.ipynb>data table notebook</a>'\n",
              "            + ' to learn more about interactive tables.';\n",
              "          element.innerHTML = '';\n",
              "          dataTable['output_type'] = 'display_data';\n",
              "          await google.colab.output.renderOutput(dataTable, element);\n",
              "          const docLink = document.createElement('div');\n",
              "          docLink.innerHTML = docLinkHtml;\n",
              "          element.appendChild(docLink);\n",
              "        }\n",
              "      </script>\n",
              "    </div>\n",
              "  </div>\n",
              "  "
            ]
          },
          "metadata": {},
          "execution_count": 57
        }
      ]
    },
    {
      "cell_type": "code",
      "source": [
        "df.groupby('class').count().show()"
      ],
      "metadata": {
        "colab": {
          "base_uri": "https://localhost:8080/"
        },
        "id": "ZJOq-H7df50F",
        "outputId": "100d8fa2-1f52-4195-bf5c-1d27328b6476"
      },
      "execution_count": 59,
      "outputs": [
        {
          "output_type": "stream",
          "name": "stdout",
          "text": [
            "+-----+-----+\n",
            "|class|count|\n",
            "+-----+-----+\n",
            "|  1.0|   59|\n",
            "|  3.0|   48|\n",
            "|  2.0|   71|\n",
            "+-----+-----+\n",
            "\n"
          ]
        }
      ]
    },
    {
      "cell_type": "code",
      "source": [
        "pdf.isnull().sum()"
      ],
      "metadata": {
        "colab": {
          "base_uri": "https://localhost:8080/"
        },
        "id": "ubOxmQydgI9E",
        "outputId": "3cc2fd30-bc65-4a40-81f2-7e8cc7ad3312"
      },
      "execution_count": 163,
      "outputs": [
        {
          "output_type": "execute_result",
          "data": {
            "text/plain": [
              "class                            0\n",
              "alcohol                          0\n",
              " malic_acid                      0\n",
              " ash                             0\n",
              " alcalinity_of_ash               0\n",
              " magnesium                       0\n",
              " total_phenols                   0\n",
              " flavanoids                      0\n",
              " nonflavanoid_phenols            0\n",
              " proanthocyanins                 0\n",
              " color_intensity                 0\n",
              " hue                             0\n",
              " od280/od315_of_diluted_wines    0\n",
              " proline                         0\n",
              "dtype: int64"
            ]
          },
          "metadata": {},
          "execution_count": 163
        }
      ]
    },
    {
      "cell_type": "code",
      "source": [
        "from pyspark.sql.functions import isnull, when, count, col"
      ],
      "metadata": {
        "id": "EzmmH75mgUV1"
      },
      "execution_count": 61,
      "outputs": []
    },
    {
      "cell_type": "code",
      "source": [
        "#missing values\n",
        "df.select([count(when(isnull(c),c)).alias(c) for c in df.columns]).show()"
      ],
      "metadata": {
        "colab": {
          "base_uri": "https://localhost:8080/"
        },
        "id": "gKdNFMNcgd1E",
        "outputId": "8dfbdeb8-8b35-435a-9b11-9c60f4c67f0f"
      },
      "execution_count": 62,
      "outputs": [
        {
          "output_type": "stream",
          "name": "stdout",
          "text": [
            "+-----+-------+-----------+----+------------------+----------+--------------+-----------+---------------------+----------------+----------------+----+-----------------------------+--------+\n",
            "|class|alcohol| malic_acid| ash| alcalinity_of_ash| magnesium| total_phenols| flavanoids| nonflavanoid_phenols| proanthocyanins| color_intensity| hue| od280/od315_of_diluted_wines| proline|\n",
            "+-----+-------+-----------+----+------------------+----------+--------------+-----------+---------------------+----------------+----------------+----+-----------------------------+--------+\n",
            "|    0|      0|          0|   0|                 0|         0|             0|          0|                    0|               0|               0|   0|                            0|       0|\n",
            "+-----+-------+-----------+----+------------------+----------+--------------+-----------+---------------------+----------------+----------------+----+-----------------------------+--------+\n",
            "\n"
          ]
        }
      ]
    },
    {
      "cell_type": "code",
      "source": [
        "from pyspark.ml.feature import Imputer, MinMaxScaler"
      ],
      "metadata": {
        "id": "jisfbwiqgqO0"
      },
      "execution_count": 63,
      "outputs": []
    },
    {
      "cell_type": "code",
      "source": [
        "imputed_col = ['f_{}'.format(i+1) for i in range(11)]"
      ],
      "metadata": {
        "id": "pHxncNyCgzxU"
      },
      "execution_count": 74,
      "outputs": []
    },
    {
      "cell_type": "code",
      "source": [
        "imputed_col"
      ],
      "metadata": {
        "colab": {
          "base_uri": "https://localhost:8080/"
        },
        "id": "R524tDlBhLaT",
        "outputId": "11e54849-a654-40af-c54c-e4d1493f4a05"
      },
      "execution_count": 72,
      "outputs": [
        {
          "output_type": "execute_result",
          "data": {
            "text/plain": [
              "['f_1']"
            ]
          },
          "metadata": {},
          "execution_count": 72
        }
      ]
    },
    {
      "cell_type": "code",
      "source": [
        "model = Imputer(strategy = 'mean', missingValue=None, inputCols=input_cols,outputCols=imputed_col).fit(df)"
      ],
      "metadata": {
        "id": "S4blpK74g49z"
      },
      "execution_count": 75,
      "outputs": []
    },
    {
      "cell_type": "code",
      "source": [
        "impute_data = model.transform(df)"
      ],
      "metadata": {
        "id": "9teRGx01hlr4"
      },
      "execution_count": 77,
      "outputs": []
    },
    {
      "cell_type": "code",
      "source": [
        "impute_data.show()"
      ],
      "metadata": {
        "colab": {
          "base_uri": "https://localhost:8080/"
        },
        "id": "zZcF46zkhr9S",
        "outputId": "95e7be68-7fd3-48d0-e321-492ad9f8ebae"
      },
      "execution_count": 78,
      "outputs": [
        {
          "output_type": "stream",
          "name": "stdout",
          "text": [
            "+-----+-------+-----------+----+------------------+----------+--------------+-----------+---------------------+----------------+----------------+----+-----------------------------+--------+----+----+----+-----+----+----+----+----+----+----+----+\n",
            "|class|alcohol| malic_acid| ash| alcalinity_of_ash| magnesium| total_phenols| flavanoids| nonflavanoid_phenols| proanthocyanins| color_intensity| hue| od280/od315_of_diluted_wines| proline| f_1| f_2| f_3|  f_4| f_5| f_6| f_7| f_8| f_9|f_10|f_11|\n",
            "+-----+-------+-----------+----+------------------+----------+--------------+-----------+---------------------+----------------+----------------+----+-----------------------------+--------+----+----+----+-----+----+----+----+----+----+----+----+\n",
            "|  1.0|  14.23|       1.71|2.43|              15.6|     127.0|           2.8|       3.06|                 0.28|            2.29|            5.64|1.04|                         3.92|  1065.0|1.71|2.43|15.6|127.0| 2.8|3.06|0.28|2.29|5.64|1.04|3.92|\n",
            "|  1.0|   13.2|       1.78|2.14|              11.2|     100.0|          2.65|       2.76|                 0.26|            1.28|            4.38|1.05|                          3.4|  1050.0|1.78|2.14|11.2|100.0|2.65|2.76|0.26|1.28|4.38|1.05| 3.4|\n",
            "|  1.0|  13.16|       2.36|2.67|              18.6|     101.0|           2.8|       3.24|                  0.3|            2.81|            5.68|1.03|                         3.17|  1185.0|2.36|2.67|18.6|101.0| 2.8|3.24| 0.3|2.81|5.68|1.03|3.17|\n",
            "|  1.0|  14.37|       1.95| 2.5|              16.8|     113.0|          3.85|       3.49|                 0.24|            2.18|             7.8|0.86|                         3.45|  1480.0|1.95| 2.5|16.8|113.0|3.85|3.49|0.24|2.18| 7.8|0.86|3.45|\n",
            "|  1.0|  13.24|       2.59|2.87|              21.0|     118.0|           2.8|       2.69|                 0.39|            1.82|            4.32|1.04|                         2.93|   735.0|2.59|2.87|21.0|118.0| 2.8|2.69|0.39|1.82|4.32|1.04|2.93|\n",
            "|  1.0|   14.2|       1.76|2.45|              15.2|     112.0|          3.27|       3.39|                 0.34|            1.97|            6.75|1.05|                         2.85|  1450.0|1.76|2.45|15.2|112.0|3.27|3.39|0.34|1.97|6.75|1.05|2.85|\n",
            "|  1.0|  14.39|       1.87|2.45|              14.6|      96.0|           2.5|       2.52|                  0.3|            1.98|            5.25|1.02|                         3.58|  1290.0|1.87|2.45|14.6| 96.0| 2.5|2.52| 0.3|1.98|5.25|1.02|3.58|\n",
            "|  1.0|  14.06|       2.15|2.61|              17.6|     121.0|           2.6|       2.51|                 0.31|            1.25|            5.05|1.06|                         3.58|  1295.0|2.15|2.61|17.6|121.0| 2.6|2.51|0.31|1.25|5.05|1.06|3.58|\n",
            "|  1.0|  14.83|       1.64|2.17|              14.0|      97.0|           2.8|       2.98|                 0.29|            1.98|             5.2|1.08|                         2.85|  1045.0|1.64|2.17|14.0| 97.0| 2.8|2.98|0.29|1.98| 5.2|1.08|2.85|\n",
            "|  1.0|  13.86|       1.35|2.27|              16.0|      98.0|          2.98|       3.15|                 0.22|            1.85|            7.22|1.01|                         3.55|  1045.0|1.35|2.27|16.0| 98.0|2.98|3.15|0.22|1.85|7.22|1.01|3.55|\n",
            "|  1.0|   14.1|       2.16| 2.3|              18.0|     105.0|          2.95|       3.32|                 0.22|            2.38|            5.75|1.25|                         3.17|  1510.0|2.16| 2.3|18.0|105.0|2.95|3.32|0.22|2.38|5.75|1.25|3.17|\n",
            "|  1.0|  14.12|       1.48|2.32|              16.8|      95.0|           2.2|       2.43|                 0.26|            1.57|             5.0|1.17|                         2.82|  1280.0|1.48|2.32|16.8| 95.0| 2.2|2.43|0.26|1.57| 5.0|1.17|2.82|\n",
            "|  1.0|  13.75|       1.73|2.41|              16.0|      89.0|           2.6|       2.76|                 0.29|            1.81|             5.6|1.15|                          2.9|  1320.0|1.73|2.41|16.0| 89.0| 2.6|2.76|0.29|1.81| 5.6|1.15| 2.9|\n",
            "|  1.0|  14.75|       1.73|2.39|              11.4|      91.0|           3.1|       3.69|                 0.43|            2.81|             5.4|1.25|                         2.73|  1150.0|1.73|2.39|11.4| 91.0| 3.1|3.69|0.43|2.81| 5.4|1.25|2.73|\n",
            "|  1.0|  14.38|       1.87|2.38|              12.0|     102.0|           3.3|       3.64|                 0.29|            2.96|             7.5| 1.2|                          3.0|  1547.0|1.87|2.38|12.0|102.0| 3.3|3.64|0.29|2.96| 7.5| 1.2| 3.0|\n",
            "|  1.0|  13.63|       1.81| 2.7|              17.2|     112.0|          2.85|       2.91|                  0.3|            1.46|             7.3|1.28|                         2.88|  1310.0|1.81| 2.7|17.2|112.0|2.85|2.91| 0.3|1.46| 7.3|1.28|2.88|\n",
            "|  1.0|   14.3|       1.92|2.72|              20.0|     120.0|           2.8|       3.14|                 0.33|            1.97|             6.2|1.07|                         2.65|  1280.0|1.92|2.72|20.0|120.0| 2.8|3.14|0.33|1.97| 6.2|1.07|2.65|\n",
            "|  1.0|  13.83|       1.57|2.62|              20.0|     115.0|          2.95|        3.4|                  0.4|            1.72|             6.6|1.13|                         2.57|  1130.0|1.57|2.62|20.0|115.0|2.95| 3.4| 0.4|1.72| 6.6|1.13|2.57|\n",
            "|  1.0|  14.19|       1.59|2.48|              16.5|     108.0|           3.3|       3.93|                 0.32|            1.86|             8.7|1.23|                         2.82|  1680.0|1.59|2.48|16.5|108.0| 3.3|3.93|0.32|1.86| 8.7|1.23|2.82|\n",
            "|  1.0|  13.64|        3.1|2.56|              15.2|     116.0|           2.7|       3.03|                 0.17|            1.66|             5.1|0.96|                         3.36|   845.0| 3.1|2.56|15.2|116.0| 2.7|3.03|0.17|1.66| 5.1|0.96|3.36|\n",
            "+-----+-------+-----------+----+------------------+----------+--------------+-----------+---------------------+----------------+----------------+----+-----------------------------+--------+----+----+----+-----+----+----+----+----+----+----+----+\n",
            "only showing top 20 rows\n",
            "\n"
          ]
        }
      ]
    },
    {
      "cell_type": "code",
      "source": [
        "assemble = VectorAssembler(inputCols=imputed_col, outputCol='assembled_features')"
      ],
      "metadata": {
        "id": "NPzkyS6chyvT"
      },
      "execution_count": 79,
      "outputs": []
    },
    {
      "cell_type": "code",
      "source": [
        "assemble_data = assemble.transform(impute_data)"
      ],
      "metadata": {
        "id": "CEzXT7e4h_3R"
      },
      "execution_count": 83,
      "outputs": []
    },
    {
      "cell_type": "code",
      "source": [
        "assemble_data.show()"
      ],
      "metadata": {
        "colab": {
          "base_uri": "https://localhost:8080/"
        },
        "id": "IRNA4BYtiLYS",
        "outputId": "00d9e7a6-1f6e-407d-9820-2cf7b6e8ef59"
      },
      "execution_count": 85,
      "outputs": [
        {
          "output_type": "stream",
          "name": "stdout",
          "text": [
            "+-----+-------+-----------+----+------------------+----------+--------------+-----------+---------------------+----------------+----------------+----+-----------------------------+--------+----+----+----+-----+----+----+----+----+----+----+----+--------------------+\n",
            "|class|alcohol| malic_acid| ash| alcalinity_of_ash| magnesium| total_phenols| flavanoids| nonflavanoid_phenols| proanthocyanins| color_intensity| hue| od280/od315_of_diluted_wines| proline| f_1| f_2| f_3|  f_4| f_5| f_6| f_7| f_8| f_9|f_10|f_11|  assembled_features|\n",
            "+-----+-------+-----------+----+------------------+----------+--------------+-----------+---------------------+----------------+----------------+----+-----------------------------+--------+----+----+----+-----+----+----+----+----+----+----+----+--------------------+\n",
            "|  1.0|  14.23|       1.71|2.43|              15.6|     127.0|           2.8|       3.06|                 0.28|            2.29|            5.64|1.04|                         3.92|  1065.0|1.71|2.43|15.6|127.0| 2.8|3.06|0.28|2.29|5.64|1.04|3.92|[1.71,2.43,15.6,1...|\n",
            "|  1.0|   13.2|       1.78|2.14|              11.2|     100.0|          2.65|       2.76|                 0.26|            1.28|            4.38|1.05|                          3.4|  1050.0|1.78|2.14|11.2|100.0|2.65|2.76|0.26|1.28|4.38|1.05| 3.4|[1.78,2.14,11.2,1...|\n",
            "|  1.0|  13.16|       2.36|2.67|              18.6|     101.0|           2.8|       3.24|                  0.3|            2.81|            5.68|1.03|                         3.17|  1185.0|2.36|2.67|18.6|101.0| 2.8|3.24| 0.3|2.81|5.68|1.03|3.17|[2.36,2.67,18.6,1...|\n",
            "|  1.0|  14.37|       1.95| 2.5|              16.8|     113.0|          3.85|       3.49|                 0.24|            2.18|             7.8|0.86|                         3.45|  1480.0|1.95| 2.5|16.8|113.0|3.85|3.49|0.24|2.18| 7.8|0.86|3.45|[1.95,2.5,16.8,11...|\n",
            "|  1.0|  13.24|       2.59|2.87|              21.0|     118.0|           2.8|       2.69|                 0.39|            1.82|            4.32|1.04|                         2.93|   735.0|2.59|2.87|21.0|118.0| 2.8|2.69|0.39|1.82|4.32|1.04|2.93|[2.59,2.87,21.0,1...|\n",
            "|  1.0|   14.2|       1.76|2.45|              15.2|     112.0|          3.27|       3.39|                 0.34|            1.97|            6.75|1.05|                         2.85|  1450.0|1.76|2.45|15.2|112.0|3.27|3.39|0.34|1.97|6.75|1.05|2.85|[1.76,2.45,15.2,1...|\n",
            "|  1.0|  14.39|       1.87|2.45|              14.6|      96.0|           2.5|       2.52|                  0.3|            1.98|            5.25|1.02|                         3.58|  1290.0|1.87|2.45|14.6| 96.0| 2.5|2.52| 0.3|1.98|5.25|1.02|3.58|[1.87,2.45,14.6,9...|\n",
            "|  1.0|  14.06|       2.15|2.61|              17.6|     121.0|           2.6|       2.51|                 0.31|            1.25|            5.05|1.06|                         3.58|  1295.0|2.15|2.61|17.6|121.0| 2.6|2.51|0.31|1.25|5.05|1.06|3.58|[2.15,2.61,17.6,1...|\n",
            "|  1.0|  14.83|       1.64|2.17|              14.0|      97.0|           2.8|       2.98|                 0.29|            1.98|             5.2|1.08|                         2.85|  1045.0|1.64|2.17|14.0| 97.0| 2.8|2.98|0.29|1.98| 5.2|1.08|2.85|[1.64,2.17,14.0,9...|\n",
            "|  1.0|  13.86|       1.35|2.27|              16.0|      98.0|          2.98|       3.15|                 0.22|            1.85|            7.22|1.01|                         3.55|  1045.0|1.35|2.27|16.0| 98.0|2.98|3.15|0.22|1.85|7.22|1.01|3.55|[1.35,2.27,16.0,9...|\n",
            "|  1.0|   14.1|       2.16| 2.3|              18.0|     105.0|          2.95|       3.32|                 0.22|            2.38|            5.75|1.25|                         3.17|  1510.0|2.16| 2.3|18.0|105.0|2.95|3.32|0.22|2.38|5.75|1.25|3.17|[2.16,2.3,18.0,10...|\n",
            "|  1.0|  14.12|       1.48|2.32|              16.8|      95.0|           2.2|       2.43|                 0.26|            1.57|             5.0|1.17|                         2.82|  1280.0|1.48|2.32|16.8| 95.0| 2.2|2.43|0.26|1.57| 5.0|1.17|2.82|[1.48,2.32,16.8,9...|\n",
            "|  1.0|  13.75|       1.73|2.41|              16.0|      89.0|           2.6|       2.76|                 0.29|            1.81|             5.6|1.15|                          2.9|  1320.0|1.73|2.41|16.0| 89.0| 2.6|2.76|0.29|1.81| 5.6|1.15| 2.9|[1.73,2.41,16.0,8...|\n",
            "|  1.0|  14.75|       1.73|2.39|              11.4|      91.0|           3.1|       3.69|                 0.43|            2.81|             5.4|1.25|                         2.73|  1150.0|1.73|2.39|11.4| 91.0| 3.1|3.69|0.43|2.81| 5.4|1.25|2.73|[1.73,2.39,11.4,9...|\n",
            "|  1.0|  14.38|       1.87|2.38|              12.0|     102.0|           3.3|       3.64|                 0.29|            2.96|             7.5| 1.2|                          3.0|  1547.0|1.87|2.38|12.0|102.0| 3.3|3.64|0.29|2.96| 7.5| 1.2| 3.0|[1.87,2.38,12.0,1...|\n",
            "|  1.0|  13.63|       1.81| 2.7|              17.2|     112.0|          2.85|       2.91|                  0.3|            1.46|             7.3|1.28|                         2.88|  1310.0|1.81| 2.7|17.2|112.0|2.85|2.91| 0.3|1.46| 7.3|1.28|2.88|[1.81,2.7,17.2,11...|\n",
            "|  1.0|   14.3|       1.92|2.72|              20.0|     120.0|           2.8|       3.14|                 0.33|            1.97|             6.2|1.07|                         2.65|  1280.0|1.92|2.72|20.0|120.0| 2.8|3.14|0.33|1.97| 6.2|1.07|2.65|[1.92,2.72,20.0,1...|\n",
            "|  1.0|  13.83|       1.57|2.62|              20.0|     115.0|          2.95|        3.4|                  0.4|            1.72|             6.6|1.13|                         2.57|  1130.0|1.57|2.62|20.0|115.0|2.95| 3.4| 0.4|1.72| 6.6|1.13|2.57|[1.57,2.62,20.0,1...|\n",
            "|  1.0|  14.19|       1.59|2.48|              16.5|     108.0|           3.3|       3.93|                 0.32|            1.86|             8.7|1.23|                         2.82|  1680.0|1.59|2.48|16.5|108.0| 3.3|3.93|0.32|1.86| 8.7|1.23|2.82|[1.59,2.48,16.5,1...|\n",
            "|  1.0|  13.64|        3.1|2.56|              15.2|     116.0|           2.7|       3.03|                 0.17|            1.66|             5.1|0.96|                         3.36|   845.0| 3.1|2.56|15.2|116.0| 2.7|3.03|0.17|1.66| 5.1|0.96|3.36|[3.1,2.56,15.2,11...|\n",
            "+-----+-------+-----------+----+------------------+----------+--------------+-----------+---------------------+----------------+----------------+----+-----------------------------+--------+----+----+----+-----+----+----+----+----+----+----+----+--------------------+\n",
            "only showing top 20 rows\n",
            "\n"
          ]
        }
      ]
    },
    {
      "cell_type": "code",
      "source": [
        "scaler = MinMaxScaler(min=0.0, max=1.0,inputCol='assembled_features',outputCol='features')"
      ],
      "metadata": {
        "id": "jedoU3XiiWgC"
      },
      "execution_count": 86,
      "outputs": []
    },
    {
      "cell_type": "code",
      "source": [
        "scaler_data = scaler.fit(assemble_data).transform(assemble_data)"
      ],
      "metadata": {
        "id": "e1c-QJTFibfS"
      },
      "execution_count": 87,
      "outputs": []
    },
    {
      "cell_type": "code",
      "source": [
        "scaler_data.select('features').show()"
      ],
      "metadata": {
        "colab": {
          "base_uri": "https://localhost:8080/"
        },
        "id": "Pwc6HoQHioCh",
        "outputId": "fe5035c3-216d-4676-b3bd-7c5acf12e380"
      },
      "execution_count": 88,
      "outputs": [
        {
          "output_type": "stream",
          "name": "stdout",
          "text": [
            "+--------------------+\n",
            "|            features|\n",
            "+--------------------+\n",
            "|[0.19169960474308...|\n",
            "|[0.20553359683794...|\n",
            "|[0.32015810276679...|\n",
            "|[0.23913043478260...|\n",
            "|[0.36561264822134...|\n",
            "|[0.20158102766798...|\n",
            "|[0.22332015810276...|\n",
            "|[0.27865612648221...|\n",
            "|[0.17786561264822...|\n",
            "|[0.12055335968379...|\n",
            "|[0.28063241106719...|\n",
            "|[0.14624505928853...|\n",
            "|[0.19565217391304...|\n",
            "|[0.19565217391304...|\n",
            "|[0.22332015810276...|\n",
            "|[0.21146245059288...|\n",
            "|[0.23320158102766...|\n",
            "|[0.16403162055335...|\n",
            "|[0.16798418972332...|\n",
            "|[0.46640316205533...|\n",
            "+--------------------+\n",
            "only showing top 20 rows\n",
            "\n"
          ]
        }
      ]
    },
    {
      "cell_type": "code",
      "source": [
        "from pyspark.ml.classification import RandomForestClassifier"
      ],
      "metadata": {
        "id": "pcgqjc_-itcB"
      },
      "execution_count": 91,
      "outputs": []
    },
    {
      "cell_type": "code",
      "source": [
        "rf = RandomForestClassifier(labelCol='Outcome',featuresCol='features')"
      ],
      "metadata": {
        "id": "6Do7Yv4fjf04"
      },
      "execution_count": 92,
      "outputs": []
    },
    {
      "cell_type": "code",
      "source": [
        "from typing_extensions import Required\n",
        "# Assemble the features\n",
        "Required_features = ['alcohol']"
      ],
      "metadata": {
        "id": "uX51yqb7kfbP"
      },
      "execution_count": 117,
      "outputs": []
    },
    {
      "cell_type": "code",
      "source": [
        "pdf[Required_features]"
      ],
      "metadata": {
        "colab": {
          "base_uri": "https://localhost:8080/",
          "height": 424
        },
        "id": "unGxetrMm1u_",
        "outputId": "0d52e6a0-8ada-48ce-d3e7-77001354fc5a"
      },
      "execution_count": 118,
      "outputs": [
        {
          "output_type": "execute_result",
          "data": {
            "text/plain": [
              "     alcohol\n",
              "0      14.23\n",
              "1      13.20\n",
              "2      13.16\n",
              "3      14.37\n",
              "4      13.24\n",
              "..       ...\n",
              "173    13.71\n",
              "174    13.40\n",
              "175    13.27\n",
              "176    13.17\n",
              "177    14.13\n",
              "\n",
              "[178 rows x 1 columns]"
            ],
            "text/html": [
              "\n",
              "  <div id=\"df-46525ff5-c700-4426-a469-03cceecd27e6\">\n",
              "    <div class=\"colab-df-container\">\n",
              "      <div>\n",
              "<style scoped>\n",
              "    .dataframe tbody tr th:only-of-type {\n",
              "        vertical-align: middle;\n",
              "    }\n",
              "\n",
              "    .dataframe tbody tr th {\n",
              "        vertical-align: top;\n",
              "    }\n",
              "\n",
              "    .dataframe thead th {\n",
              "        text-align: right;\n",
              "    }\n",
              "</style>\n",
              "<table border=\"1\" class=\"dataframe\">\n",
              "  <thead>\n",
              "    <tr style=\"text-align: right;\">\n",
              "      <th></th>\n",
              "      <th>alcohol</th>\n",
              "    </tr>\n",
              "  </thead>\n",
              "  <tbody>\n",
              "    <tr>\n",
              "      <th>0</th>\n",
              "      <td>14.23</td>\n",
              "    </tr>\n",
              "    <tr>\n",
              "      <th>1</th>\n",
              "      <td>13.20</td>\n",
              "    </tr>\n",
              "    <tr>\n",
              "      <th>2</th>\n",
              "      <td>13.16</td>\n",
              "    </tr>\n",
              "    <tr>\n",
              "      <th>3</th>\n",
              "      <td>14.37</td>\n",
              "    </tr>\n",
              "    <tr>\n",
              "      <th>4</th>\n",
              "      <td>13.24</td>\n",
              "    </tr>\n",
              "    <tr>\n",
              "      <th>...</th>\n",
              "      <td>...</td>\n",
              "    </tr>\n",
              "    <tr>\n",
              "      <th>173</th>\n",
              "      <td>13.71</td>\n",
              "    </tr>\n",
              "    <tr>\n",
              "      <th>174</th>\n",
              "      <td>13.40</td>\n",
              "    </tr>\n",
              "    <tr>\n",
              "      <th>175</th>\n",
              "      <td>13.27</td>\n",
              "    </tr>\n",
              "    <tr>\n",
              "      <th>176</th>\n",
              "      <td>13.17</td>\n",
              "    </tr>\n",
              "    <tr>\n",
              "      <th>177</th>\n",
              "      <td>14.13</td>\n",
              "    </tr>\n",
              "  </tbody>\n",
              "</table>\n",
              "<p>178 rows × 1 columns</p>\n",
              "</div>\n",
              "      <button class=\"colab-df-convert\" onclick=\"convertToInteractive('df-46525ff5-c700-4426-a469-03cceecd27e6')\"\n",
              "              title=\"Convert this dataframe to an interactive table.\"\n",
              "              style=\"display:none;\">\n",
              "        \n",
              "  <svg xmlns=\"http://www.w3.org/2000/svg\" height=\"24px\"viewBox=\"0 0 24 24\"\n",
              "       width=\"24px\">\n",
              "    <path d=\"M0 0h24v24H0V0z\" fill=\"none\"/>\n",
              "    <path d=\"M18.56 5.44l.94 2.06.94-2.06 2.06-.94-2.06-.94-.94-2.06-.94 2.06-2.06.94zm-11 1L8.5 8.5l.94-2.06 2.06-.94-2.06-.94L8.5 2.5l-.94 2.06-2.06.94zm10 10l.94 2.06.94-2.06 2.06-.94-2.06-.94-.94-2.06-.94 2.06-2.06.94z\"/><path d=\"M17.41 7.96l-1.37-1.37c-.4-.4-.92-.59-1.43-.59-.52 0-1.04.2-1.43.59L10.3 9.45l-7.72 7.72c-.78.78-.78 2.05 0 2.83L4 21.41c.39.39.9.59 1.41.59.51 0 1.02-.2 1.41-.59l7.78-7.78 2.81-2.81c.8-.78.8-2.07 0-2.86zM5.41 20L4 18.59l7.72-7.72 1.47 1.35L5.41 20z\"/>\n",
              "  </svg>\n",
              "      </button>\n",
              "      \n",
              "  <style>\n",
              "    .colab-df-container {\n",
              "      display:flex;\n",
              "      flex-wrap:wrap;\n",
              "      gap: 12px;\n",
              "    }\n",
              "\n",
              "    .colab-df-convert {\n",
              "      background-color: #E8F0FE;\n",
              "      border: none;\n",
              "      border-radius: 50%;\n",
              "      cursor: pointer;\n",
              "      display: none;\n",
              "      fill: #1967D2;\n",
              "      height: 32px;\n",
              "      padding: 0 0 0 0;\n",
              "      width: 32px;\n",
              "    }\n",
              "\n",
              "    .colab-df-convert:hover {\n",
              "      background-color: #E2EBFA;\n",
              "      box-shadow: 0px 1px 2px rgba(60, 64, 67, 0.3), 0px 1px 3px 1px rgba(60, 64, 67, 0.15);\n",
              "      fill: #174EA6;\n",
              "    }\n",
              "\n",
              "    [theme=dark] .colab-df-convert {\n",
              "      background-color: #3B4455;\n",
              "      fill: #D2E3FC;\n",
              "    }\n",
              "\n",
              "    [theme=dark] .colab-df-convert:hover {\n",
              "      background-color: #434B5C;\n",
              "      box-shadow: 0px 1px 3px 1px rgba(0, 0, 0, 0.15);\n",
              "      filter: drop-shadow(0px 1px 2px rgba(0, 0, 0, 0.3));\n",
              "      fill: #FFFFFF;\n",
              "    }\n",
              "  </style>\n",
              "\n",
              "      <script>\n",
              "        const buttonEl =\n",
              "          document.querySelector('#df-46525ff5-c700-4426-a469-03cceecd27e6 button.colab-df-convert');\n",
              "        buttonEl.style.display =\n",
              "          google.colab.kernel.accessAllowed ? 'block' : 'none';\n",
              "\n",
              "        async function convertToInteractive(key) {\n",
              "          const element = document.querySelector('#df-46525ff5-c700-4426-a469-03cceecd27e6');\n",
              "          const dataTable =\n",
              "            await google.colab.kernel.invokeFunction('convertToInteractive',\n",
              "                                                     [key], {});\n",
              "          if (!dataTable) return;\n",
              "\n",
              "          const docLinkHtml = 'Like what you see? Visit the ' +\n",
              "            '<a target=\"_blank\" href=https://colab.research.google.com/notebooks/data_table.ipynb>data table notebook</a>'\n",
              "            + ' to learn more about interactive tables.';\n",
              "          element.innerHTML = '';\n",
              "          dataTable['output_type'] = 'display_data';\n",
              "          await google.colab.output.renderOutput(dataTable, element);\n",
              "          const docLink = document.createElement('div');\n",
              "          docLink.innerHTML = docLinkHtml;\n",
              "          element.appendChild(docLink);\n",
              "        }\n",
              "      </script>\n",
              "    </div>\n",
              "  </div>\n",
              "  "
            ]
          },
          "metadata": {},
          "execution_count": 118
        }
      ]
    },
    {
      "cell_type": "code",
      "source": [
        " #import the vector assembler class\n",
        "from pyspark.ml.feature import VectorAssembler"
      ],
      "metadata": {
        "id": "orohGCsAlV4U"
      },
      "execution_count": 119,
      "outputs": []
    },
    {
      "cell_type": "code",
      "source": [
        "# create the object\n",
        "assembler = VectorAssembler(inputCols=Required_features,outputCol='features')"
      ],
      "metadata": {
        "id": "Kb7IDQGNkNPQ"
      },
      "execution_count": 122,
      "outputs": []
    },
    {
      "cell_type": "code",
      "source": [
        "transformed_data = assembler.transform(df)"
      ],
      "metadata": {
        "id": "BRQAAp9MleXf"
      },
      "execution_count": 123,
      "outputs": []
    },
    {
      "cell_type": "code",
      "source": [
        "training_data, test_data = transformed_data.randomSplit([0.7,0.3])\n"
      ],
      "metadata": {
        "id": "yqysPw2dj-PP"
      },
      "execution_count": 140,
      "outputs": []
    },
    {
      "cell_type": "code",
      "source": [
        "rf = RandomForestClassifier(labelCol=\"class\", featuresCol=\"features\", numTrees=10)\n"
      ],
      "metadata": {
        "id": "CKzGG0LtjrYQ"
      },
      "execution_count": 183,
      "outputs": []
    },
    {
      "cell_type": "code",
      "source": [
        "training_data.count()"
      ],
      "metadata": {
        "colab": {
          "base_uri": "https://localhost:8080/"
        },
        "id": "9LVe01CksCwg",
        "outputId": "eaac222a-3656-4f75-d1d4-b8b5e371be64"
      },
      "execution_count": 177,
      "outputs": [
        {
          "output_type": "execute_result",
          "data": {
            "text/plain": [
              "133"
            ]
          },
          "metadata": {},
          "execution_count": 177
        }
      ]
    },
    {
      "cell_type": "code",
      "source": [
        "model = rf.fit(training_data)"
      ],
      "metadata": {
        "id": "YstT5GucsSmG"
      },
      "execution_count": 184,
      "outputs": []
    },
    {
      "cell_type": "code",
      "source": [
        "predictions = model.transform(test_data)"
      ],
      "metadata": {
        "id": "ssT1jRMotv6V"
      },
      "execution_count": 186,
      "outputs": []
    },
    {
      "cell_type": "code",
      "source": [
        "predictions.show()"
      ],
      "metadata": {
        "colab": {
          "base_uri": "https://localhost:8080/"
        },
        "id": "CD0-V5e6tyoV",
        "outputId": "5e547b40-5b17-4968-af31-727cc68caf63"
      },
      "execution_count": 187,
      "outputs": [
        {
          "output_type": "stream",
          "name": "stdout",
          "text": [
            "+-----+-------+-----------+----+------------------+----------+--------------+-----------+---------------------+----------------+----------------+----+-----------------------------+--------+--------+--------------------+--------------------+----------+\n",
            "|class|alcohol| malic_acid| ash| alcalinity_of_ash| magnesium| total_phenols| flavanoids| nonflavanoid_phenols| proanthocyanins| color_intensity| hue| od280/od315_of_diluted_wines| proline|features|       rawPrediction|         probability|prediction|\n",
            "+-----+-------+-----------+----+------------------+----------+--------------+-----------+---------------------+----------------+----------------+----+-----------------------------+--------+--------+--------------------+--------------------+----------+\n",
            "|  1.0|  13.05|       1.73|2.04|              12.4|      92.0|          2.72|       3.27|                 0.17|            2.91|             7.2|1.12|                         2.91|  1150.0| [13.05]|[0.0,5.2730519480...|[0.0,0.5273051948...|       1.0|\n",
            "|  1.0|   13.2|       1.78|2.14|              11.2|     100.0|          2.65|       2.76|                 0.26|            1.28|            4.38|1.05|                          3.4|  1050.0|  [13.2]|[0.0,2.9152502468...|[0.0,0.2915250246...|       2.0|\n",
            "|  1.0|  13.24|       3.98|2.29|              17.5|     103.0|          2.64|       2.63|                 0.32|            1.66|            4.36|0.82|                          3.0|   680.0| [13.24]|[0.0,3.8921982987...|[0.0,0.3892198298...|       3.0|\n",
            "|  1.0|  13.28|       1.64|2.84|              15.5|     110.0|           2.6|       2.68|                 0.34|            1.36|             4.6|1.09|                         2.78|   880.0| [13.28]|[0.0,3.8921982987...|[0.0,0.3892198298...|       3.0|\n",
            "|  1.0|   13.3|       1.72|2.14|              17.0|      94.0|           2.4|       2.19|                 0.27|            1.35|            3.95|1.02|                         2.77|  1285.0|  [13.3]|[0.0,3.8921982987...|[0.0,0.3892198298...|       3.0|\n",
            "|  1.0|  13.48|       1.81|2.41|              20.5|     100.0|           2.7|       2.98|                 0.26|            1.86|             5.1|1.04|                         3.47|   920.0| [13.48]|[0.0,3.8348764811...|[0.0,0.3834876481...|       3.0|\n",
            "|  1.0|  13.56|       1.71|2.31|              16.2|     117.0|          3.15|       3.29|                 0.34|            2.34|            6.13|0.95|                         3.38|   795.0| [13.56]|[0.0,5.3620118848...|[0.0,0.5362011884...|       1.0|\n",
            "|  1.0|  13.58|       1.66|2.36|              19.1|     106.0|          2.86|       3.19|                 0.22|            1.95|             6.9|1.09|                         2.88|  1515.0| [13.58]|[0.0,4.4826468054...|[0.0,0.4482646805...|       1.0|\n",
            "|  1.0|  13.68|       1.83|2.36|              17.2|     104.0|          2.42|       2.69|                 0.42|            1.97|            3.84|1.23|                         2.87|   990.0| [13.68]|[0.0,4.2294000522...|[0.0,0.4229400052...|       3.0|\n",
            "|  1.0|  13.71|       1.86|2.36|              16.6|     101.0|          2.61|       2.88|                 0.27|            1.69|             3.8|1.11|                          4.0|  1035.0| [13.71]|[0.0,4.2294000522...|[0.0,0.4229400052...|       3.0|\n",
            "|  1.0|  13.73|        1.5| 2.7|              22.5|     101.0|           3.0|       3.25|                 0.29|            2.38|             5.7|1.19|                         2.71|  1285.0| [13.73]|[0.0,4.2294000522...|[0.0,0.4229400052...|       3.0|\n",
            "|  1.0|  13.75|       1.73|2.41|              16.0|      89.0|           2.6|       2.76|                 0.29|            1.81|             5.6|1.15|                          2.9|  1320.0| [13.75]|[0.0,7.2823989061...|[0.0,0.7282398906...|       1.0|\n",
            "|  1.0|   13.9|       1.68|2.12|              16.0|     101.0|           3.1|       3.39|                 0.21|            2.14|             6.1|0.91|                         3.33|   985.0|  [13.9]|[0.0,7.2823989061...|[0.0,0.7282398906...|       1.0|\n",
            "|  1.0|  13.94|       1.73|2.27|              17.4|     108.0|          2.88|       3.54|                 0.32|            2.08|             8.9|1.12|                          3.1|  1260.0| [13.94]|[0.0,7.2823989061...|[0.0,0.7282398906...|       1.0|\n",
            "|  1.0|  14.02|       1.68|2.21|              16.0|      96.0|          2.65|       2.33|                 0.26|            1.98|             4.7|1.04|                         3.59|  1035.0| [14.02]|[0.0,7.7419948657...|[0.0,0.7741994865...|       1.0|\n",
            "|  1.0|   14.1|       2.16| 2.3|              18.0|     105.0|          2.95|       3.32|                 0.22|            2.38|            5.75|1.25|                         3.17|  1510.0|  [14.1]|[0.0,7.7419948657...|[0.0,0.7741994865...|       1.0|\n",
            "|  1.0|  14.22|        1.7| 2.3|              16.3|     118.0|           3.2|        3.0|                 0.26|            2.03|            6.38|0.94|                         3.31|   970.0| [14.22]|[0.0,8.1266102504...|[0.0,0.8126610250...|       1.0|\n",
            "|  1.0|  14.83|       1.64|2.17|              14.0|      97.0|           2.8|       2.98|                 0.29|            1.98|             5.2|1.08|                         2.85|  1045.0| [14.83]|[0.0,8.1742292980...|[0.0,0.8174229298...|       1.0|\n",
            "|  2.0|  11.61|       1.35| 2.7|              20.0|      94.0|          2.74|       2.92|                 0.29|            2.49|            2.65|0.96|                         3.26|   680.0| [11.61]|   [0.0,0.0,9.9,0.1]| [0.0,0.0,0.99,0.01]|       2.0|\n",
            "|  2.0|  11.82|       1.47|1.99|              20.8|      86.0|          1.98|        1.6|                  0.3|            1.53|            1.95|0.95|                         3.33|   495.0| [11.82]|   [0.0,0.0,9.9,0.1]| [0.0,0.0,0.99,0.01]|       2.0|\n",
            "+-----+-------+-----------+----+------------------+----------+--------------+-----------+---------------------+----------------+----------------+----+-----------------------------+--------+--------+--------------------+--------------------+----------+\n",
            "only showing top 20 rows\n",
            "\n"
          ]
        }
      ]
    },
    {
      "cell_type": "code",
      "source": [
        "predictions.select('prediction').toPandas()"
      ],
      "metadata": {
        "colab": {
          "base_uri": "https://localhost:8080/",
          "height": 1000
        },
        "id": "DwrPMvtHt8VE",
        "outputId": "723e5b4a-31f6-4e80-f98e-6e55009bb4bf"
      },
      "execution_count": 188,
      "outputs": [
        {
          "output_type": "execute_result",
          "data": {
            "text/plain": [
              "    prediction\n",
              "0          1.0\n",
              "1          2.0\n",
              "2          3.0\n",
              "3          3.0\n",
              "4          3.0\n",
              "5          3.0\n",
              "6          1.0\n",
              "7          1.0\n",
              "8          3.0\n",
              "9          3.0\n",
              "10         3.0\n",
              "11         1.0\n",
              "12         1.0\n",
              "13         1.0\n",
              "14         1.0\n",
              "15         1.0\n",
              "16         1.0\n",
              "17         1.0\n",
              "18         2.0\n",
              "19         2.0\n",
              "20         2.0\n",
              "21         2.0\n",
              "22         2.0\n",
              "23         2.0\n",
              "24         2.0\n",
              "25         2.0\n",
              "26         2.0\n",
              "27         2.0\n",
              "28         2.0\n",
              "29         2.0\n",
              "30         2.0\n",
              "31         3.0\n",
              "32         2.0\n",
              "33         2.0\n",
              "34         2.0\n",
              "35         3.0\n",
              "36         3.0\n",
              "37         1.0\n",
              "38         2.0\n",
              "39         2.0\n",
              "40         3.0\n",
              "41         1.0\n",
              "42         3.0\n",
              "43         1.0\n",
              "44         1.0"
            ],
            "text/html": [
              "\n",
              "  <div id=\"df-e28f4ddd-9057-4a68-9daf-a6266595543e\">\n",
              "    <div class=\"colab-df-container\">\n",
              "      <div>\n",
              "<style scoped>\n",
              "    .dataframe tbody tr th:only-of-type {\n",
              "        vertical-align: middle;\n",
              "    }\n",
              "\n",
              "    .dataframe tbody tr th {\n",
              "        vertical-align: top;\n",
              "    }\n",
              "\n",
              "    .dataframe thead th {\n",
              "        text-align: right;\n",
              "    }\n",
              "</style>\n",
              "<table border=\"1\" class=\"dataframe\">\n",
              "  <thead>\n",
              "    <tr style=\"text-align: right;\">\n",
              "      <th></th>\n",
              "      <th>prediction</th>\n",
              "    </tr>\n",
              "  </thead>\n",
              "  <tbody>\n",
              "    <tr>\n",
              "      <th>0</th>\n",
              "      <td>1.0</td>\n",
              "    </tr>\n",
              "    <tr>\n",
              "      <th>1</th>\n",
              "      <td>2.0</td>\n",
              "    </tr>\n",
              "    <tr>\n",
              "      <th>2</th>\n",
              "      <td>3.0</td>\n",
              "    </tr>\n",
              "    <tr>\n",
              "      <th>3</th>\n",
              "      <td>3.0</td>\n",
              "    </tr>\n",
              "    <tr>\n",
              "      <th>4</th>\n",
              "      <td>3.0</td>\n",
              "    </tr>\n",
              "    <tr>\n",
              "      <th>5</th>\n",
              "      <td>3.0</td>\n",
              "    </tr>\n",
              "    <tr>\n",
              "      <th>6</th>\n",
              "      <td>1.0</td>\n",
              "    </tr>\n",
              "    <tr>\n",
              "      <th>7</th>\n",
              "      <td>1.0</td>\n",
              "    </tr>\n",
              "    <tr>\n",
              "      <th>8</th>\n",
              "      <td>3.0</td>\n",
              "    </tr>\n",
              "    <tr>\n",
              "      <th>9</th>\n",
              "      <td>3.0</td>\n",
              "    </tr>\n",
              "    <tr>\n",
              "      <th>10</th>\n",
              "      <td>3.0</td>\n",
              "    </tr>\n",
              "    <tr>\n",
              "      <th>11</th>\n",
              "      <td>1.0</td>\n",
              "    </tr>\n",
              "    <tr>\n",
              "      <th>12</th>\n",
              "      <td>1.0</td>\n",
              "    </tr>\n",
              "    <tr>\n",
              "      <th>13</th>\n",
              "      <td>1.0</td>\n",
              "    </tr>\n",
              "    <tr>\n",
              "      <th>14</th>\n",
              "      <td>1.0</td>\n",
              "    </tr>\n",
              "    <tr>\n",
              "      <th>15</th>\n",
              "      <td>1.0</td>\n",
              "    </tr>\n",
              "    <tr>\n",
              "      <th>16</th>\n",
              "      <td>1.0</td>\n",
              "    </tr>\n",
              "    <tr>\n",
              "      <th>17</th>\n",
              "      <td>1.0</td>\n",
              "    </tr>\n",
              "    <tr>\n",
              "      <th>18</th>\n",
              "      <td>2.0</td>\n",
              "    </tr>\n",
              "    <tr>\n",
              "      <th>19</th>\n",
              "      <td>2.0</td>\n",
              "    </tr>\n",
              "    <tr>\n",
              "      <th>20</th>\n",
              "      <td>2.0</td>\n",
              "    </tr>\n",
              "    <tr>\n",
              "      <th>21</th>\n",
              "      <td>2.0</td>\n",
              "    </tr>\n",
              "    <tr>\n",
              "      <th>22</th>\n",
              "      <td>2.0</td>\n",
              "    </tr>\n",
              "    <tr>\n",
              "      <th>23</th>\n",
              "      <td>2.0</td>\n",
              "    </tr>\n",
              "    <tr>\n",
              "      <th>24</th>\n",
              "      <td>2.0</td>\n",
              "    </tr>\n",
              "    <tr>\n",
              "      <th>25</th>\n",
              "      <td>2.0</td>\n",
              "    </tr>\n",
              "    <tr>\n",
              "      <th>26</th>\n",
              "      <td>2.0</td>\n",
              "    </tr>\n",
              "    <tr>\n",
              "      <th>27</th>\n",
              "      <td>2.0</td>\n",
              "    </tr>\n",
              "    <tr>\n",
              "      <th>28</th>\n",
              "      <td>2.0</td>\n",
              "    </tr>\n",
              "    <tr>\n",
              "      <th>29</th>\n",
              "      <td>2.0</td>\n",
              "    </tr>\n",
              "    <tr>\n",
              "      <th>30</th>\n",
              "      <td>2.0</td>\n",
              "    </tr>\n",
              "    <tr>\n",
              "      <th>31</th>\n",
              "      <td>3.0</td>\n",
              "    </tr>\n",
              "    <tr>\n",
              "      <th>32</th>\n",
              "      <td>2.0</td>\n",
              "    </tr>\n",
              "    <tr>\n",
              "      <th>33</th>\n",
              "      <td>2.0</td>\n",
              "    </tr>\n",
              "    <tr>\n",
              "      <th>34</th>\n",
              "      <td>2.0</td>\n",
              "    </tr>\n",
              "    <tr>\n",
              "      <th>35</th>\n",
              "      <td>3.0</td>\n",
              "    </tr>\n",
              "    <tr>\n",
              "      <th>36</th>\n",
              "      <td>3.0</td>\n",
              "    </tr>\n",
              "    <tr>\n",
              "      <th>37</th>\n",
              "      <td>1.0</td>\n",
              "    </tr>\n",
              "    <tr>\n",
              "      <th>38</th>\n",
              "      <td>2.0</td>\n",
              "    </tr>\n",
              "    <tr>\n",
              "      <th>39</th>\n",
              "      <td>2.0</td>\n",
              "    </tr>\n",
              "    <tr>\n",
              "      <th>40</th>\n",
              "      <td>3.0</td>\n",
              "    </tr>\n",
              "    <tr>\n",
              "      <th>41</th>\n",
              "      <td>1.0</td>\n",
              "    </tr>\n",
              "    <tr>\n",
              "      <th>42</th>\n",
              "      <td>3.0</td>\n",
              "    </tr>\n",
              "    <tr>\n",
              "      <th>43</th>\n",
              "      <td>1.0</td>\n",
              "    </tr>\n",
              "    <tr>\n",
              "      <th>44</th>\n",
              "      <td>1.0</td>\n",
              "    </tr>\n",
              "  </tbody>\n",
              "</table>\n",
              "</div>\n",
              "      <button class=\"colab-df-convert\" onclick=\"convertToInteractive('df-e28f4ddd-9057-4a68-9daf-a6266595543e')\"\n",
              "              title=\"Convert this dataframe to an interactive table.\"\n",
              "              style=\"display:none;\">\n",
              "        \n",
              "  <svg xmlns=\"http://www.w3.org/2000/svg\" height=\"24px\"viewBox=\"0 0 24 24\"\n",
              "       width=\"24px\">\n",
              "    <path d=\"M0 0h24v24H0V0z\" fill=\"none\"/>\n",
              "    <path d=\"M18.56 5.44l.94 2.06.94-2.06 2.06-.94-2.06-.94-.94-2.06-.94 2.06-2.06.94zm-11 1L8.5 8.5l.94-2.06 2.06-.94-2.06-.94L8.5 2.5l-.94 2.06-2.06.94zm10 10l.94 2.06.94-2.06 2.06-.94-2.06-.94-.94-2.06-.94 2.06-2.06.94z\"/><path d=\"M17.41 7.96l-1.37-1.37c-.4-.4-.92-.59-1.43-.59-.52 0-1.04.2-1.43.59L10.3 9.45l-7.72 7.72c-.78.78-.78 2.05 0 2.83L4 21.41c.39.39.9.59 1.41.59.51 0 1.02-.2 1.41-.59l7.78-7.78 2.81-2.81c.8-.78.8-2.07 0-2.86zM5.41 20L4 18.59l7.72-7.72 1.47 1.35L5.41 20z\"/>\n",
              "  </svg>\n",
              "      </button>\n",
              "      \n",
              "  <style>\n",
              "    .colab-df-container {\n",
              "      display:flex;\n",
              "      flex-wrap:wrap;\n",
              "      gap: 12px;\n",
              "    }\n",
              "\n",
              "    .colab-df-convert {\n",
              "      background-color: #E8F0FE;\n",
              "      border: none;\n",
              "      border-radius: 50%;\n",
              "      cursor: pointer;\n",
              "      display: none;\n",
              "      fill: #1967D2;\n",
              "      height: 32px;\n",
              "      padding: 0 0 0 0;\n",
              "      width: 32px;\n",
              "    }\n",
              "\n",
              "    .colab-df-convert:hover {\n",
              "      background-color: #E2EBFA;\n",
              "      box-shadow: 0px 1px 2px rgba(60, 64, 67, 0.3), 0px 1px 3px 1px rgba(60, 64, 67, 0.15);\n",
              "      fill: #174EA6;\n",
              "    }\n",
              "\n",
              "    [theme=dark] .colab-df-convert {\n",
              "      background-color: #3B4455;\n",
              "      fill: #D2E3FC;\n",
              "    }\n",
              "\n",
              "    [theme=dark] .colab-df-convert:hover {\n",
              "      background-color: #434B5C;\n",
              "      box-shadow: 0px 1px 3px 1px rgba(0, 0, 0, 0.15);\n",
              "      filter: drop-shadow(0px 1px 2px rgba(0, 0, 0, 0.3));\n",
              "      fill: #FFFFFF;\n",
              "    }\n",
              "  </style>\n",
              "\n",
              "      <script>\n",
              "        const buttonEl =\n",
              "          document.querySelector('#df-e28f4ddd-9057-4a68-9daf-a6266595543e button.colab-df-convert');\n",
              "        buttonEl.style.display =\n",
              "          google.colab.kernel.accessAllowed ? 'block' : 'none';\n",
              "\n",
              "        async function convertToInteractive(key) {\n",
              "          const element = document.querySelector('#df-e28f4ddd-9057-4a68-9daf-a6266595543e');\n",
              "          const dataTable =\n",
              "            await google.colab.kernel.invokeFunction('convertToInteractive',\n",
              "                                                     [key], {});\n",
              "          if (!dataTable) return;\n",
              "\n",
              "          const docLinkHtml = 'Like what you see? Visit the ' +\n",
              "            '<a target=\"_blank\" href=https://colab.research.google.com/notebooks/data_table.ipynb>data table notebook</a>'\n",
              "            + ' to learn more about interactive tables.';\n",
              "          element.innerHTML = '';\n",
              "          dataTable['output_type'] = 'display_data';\n",
              "          await google.colab.output.renderOutput(dataTable, element);\n",
              "          const docLink = document.createElement('div');\n",
              "          docLink.innerHTML = docLinkHtml;\n",
              "          element.appendChild(docLink);\n",
              "        }\n",
              "      </script>\n",
              "    </div>\n",
              "  </div>\n",
              "  "
            ]
          },
          "metadata": {},
          "execution_count": 188
        }
      ]
    },
    {
      "cell_type": "code",
      "source": [
        "pred = predictions.select('prediction').toPandas()"
      ],
      "metadata": {
        "id": "eYSzy3hmvtD1"
      },
      "execution_count": 192,
      "outputs": []
    },
    {
      "cell_type": "code",
      "source": [
        "actual = test_data.select('class').toPandas()"
      ],
      "metadata": {
        "id": "PGDZZddmvwTi"
      },
      "execution_count": 194,
      "outputs": []
    },
    {
      "cell_type": "code",
      "source": [
        "from pyspark.ml.evaluation import MulticlassClassificationEvaluator"
      ],
      "metadata": {
        "id": "FK2_6ajAtfB4"
      },
      "execution_count": 195,
      "outputs": []
    },
    {
      "cell_type": "code",
      "source": [
        "eval = MulticlassClassificationEvaluator(labelCol='class',metricName='accuracy')"
      ],
      "metadata": {
        "id": "SPRzF-jAtij1"
      },
      "execution_count": 198,
      "outputs": []
    },
    {
      "cell_type": "code",
      "source": [
        "print('Accuracy: ', eval.evaluate(predictions))"
      ],
      "metadata": {
        "colab": {
          "base_uri": "https://localhost:8080/"
        },
        "id": "a_Etbtn8tlz1",
        "outputId": "ca6d712c-ef3d-43b3-e132-1c12ddfe5242"
      },
      "execution_count": 199,
      "outputs": [
        {
          "output_type": "stream",
          "name": "stdout",
          "text": [
            "Accuracy:  0.6\n"
          ]
        }
      ]
    }
  ]
}
